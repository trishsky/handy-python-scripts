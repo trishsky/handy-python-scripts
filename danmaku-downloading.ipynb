{
 "cells": [
  {
   "cell_type": "markdown",
   "metadata": {},
   "source": [
    "# Downloading danmaku from videos on Bilibili, via keyword search"
   ]
  },
  {
   "cell_type": "code",
   "execution_count": 1,
   "metadata": {
    "collapsed": true
   },
   "outputs": [],
   "source": [
    "import requests\n",
    "from bs4 import BeautifulSoup\n",
    "import csv\n",
    "import pandas"
   ]
  },
  {
   "cell_type": "code",
   "execution_count": 2,
   "metadata": {
    "collapsed": true
   },
   "outputs": [],
   "source": [
    "s_result = requests.get(\"https://search.bilibili.com/all?keyword=%E6%B2%B3%E5%8D%97&page=5&order=totalrank\")\n",
    "html_str = s_result.text\n",
    "document = BeautifulSoup(html_str, \"html.parser\")\n",
    "h2_tags = document.find_all('a', attrs={'class': 'title'})"
   ]
  },
  {
   "cell_type": "code",
   "execution_count": 71,
   "metadata": {
    "collapsed": true
   },
   "outputs": [],
   "source": [
    "url_list = [i['href'] for i in h2_tags]"
   ]
  },
  {
   "cell_type": "code",
   "execution_count": 72,
   "metadata": {},
   "outputs": [
    {
     "data": {
      "text/plain": [
       "['//www.bilibili.com/video/av11982828?from=search&seid=13254331795348265664',\n",
       " '//www.bilibili.com/video/av10287025?from=search&seid=13254331795348265664',\n",
       " '//www.bilibili.com/video/av13224513?from=search&seid=13254331795348265664',\n",
       " '//www.bilibili.com/video/av12858760?from=search&seid=13254331795348265664',\n",
       " '//www.bilibili.com/video/av12754701?from=search&seid=13254331795348265664',\n",
       " '//www.bilibili.com/video/av14227377?from=search&seid=13254331795348265664',\n",
       " '//www.bilibili.com/video/av13389769?from=search&seid=13254331795348265664',\n",
       " '//www.bilibili.com/video/av13031348?from=search&seid=13254331795348265664',\n",
       " '//www.bilibili.com/video/av12822097?from=search&seid=13254331795348265664',\n",
       " '//www.bilibili.com/video/av13641641?from=search&seid=13254331795348265664',\n",
       " '//www.bilibili.com/video/av10742588?from=search&seid=13254331795348265664',\n",
       " '//www.bilibili.com/video/av14278099?from=search&seid=13254331795348265664',\n",
       " '//www.bilibili.com/video/av13447873?from=search&seid=13254331795348265664',\n",
       " '//www.bilibili.com/video/av14319669?from=search&seid=13254331795348265664',\n",
       " '//www.bilibili.com/video/av11820026?from=search&seid=13254331795348265664',\n",
       " '//www.bilibili.com/video/av12337610?from=search&seid=13254331795348265664',\n",
       " '//www.bilibili.com/video/av12858928?from=search&seid=13254331795348265664',\n",
       " '//www.bilibili.com/video/av13255734?from=search&seid=13254331795348265664',\n",
       " '//www.bilibili.com/video/av6363114?from=search&seid=13254331795348265664',\n",
       " '//www.bilibili.com/video/av11283076?from=search&seid=13254331795348265664']"
      ]
     },
     "execution_count": 72,
     "metadata": {},
     "output_type": "execute_result"
    }
   ],
   "source": [
    "url_list"
   ]
  },
  {
   "cell_type": "code",
   "execution_count": 76,
   "metadata": {
    "collapsed": true
   },
   "outputs": [],
   "source": [
    "working_url = []\n",
    "for item in url_list:\n",
    "    url_h = str(\"http:\" + item)\n",
    "    working_url.append(url_h)"
   ]
  },
  {
   "cell_type": "code",
   "execution_count": 77,
   "metadata": {
    "scrolled": false
   },
   "outputs": [
    {
     "data": {
      "text/plain": [
       "['http://www.bilibili.com/video/av11982828?from=search&seid=13254331795348265664',\n",
       " 'http://www.bilibili.com/video/av10287025?from=search&seid=13254331795348265664',\n",
       " 'http://www.bilibili.com/video/av13224513?from=search&seid=13254331795348265664',\n",
       " 'http://www.bilibili.com/video/av12858760?from=search&seid=13254331795348265664',\n",
       " 'http://www.bilibili.com/video/av12754701?from=search&seid=13254331795348265664',\n",
       " 'http://www.bilibili.com/video/av14227377?from=search&seid=13254331795348265664',\n",
       " 'http://www.bilibili.com/video/av13389769?from=search&seid=13254331795348265664',\n",
       " 'http://www.bilibili.com/video/av13031348?from=search&seid=13254331795348265664',\n",
       " 'http://www.bilibili.com/video/av12822097?from=search&seid=13254331795348265664',\n",
       " 'http://www.bilibili.com/video/av13641641?from=search&seid=13254331795348265664',\n",
       " 'http://www.bilibili.com/video/av10742588?from=search&seid=13254331795348265664',\n",
       " 'http://www.bilibili.com/video/av14278099?from=search&seid=13254331795348265664',\n",
       " 'http://www.bilibili.com/video/av13447873?from=search&seid=13254331795348265664',\n",
       " 'http://www.bilibili.com/video/av14319669?from=search&seid=13254331795348265664',\n",
       " 'http://www.bilibili.com/video/av11820026?from=search&seid=13254331795348265664',\n",
       " 'http://www.bilibili.com/video/av12337610?from=search&seid=13254331795348265664',\n",
       " 'http://www.bilibili.com/video/av12858928?from=search&seid=13254331795348265664',\n",
       " 'http://www.bilibili.com/video/av13255734?from=search&seid=13254331795348265664',\n",
       " 'http://www.bilibili.com/video/av6363114?from=search&seid=13254331795348265664',\n",
       " 'http://www.bilibili.com/video/av11283076?from=search&seid=13254331795348265664']"
      ]
     },
     "execution_count": 77,
     "metadata": {},
     "output_type": "execute_result"
    }
   ],
   "source": [
    "working_url"
   ]
  },
  {
   "cell_type": "code",
   "execution_count": 82,
   "metadata": {
    "collapsed": true
   },
   "outputs": [],
   "source": [
    "cid_no = []\n",
    "for i in working_url:\n",
    "    vid_pages = requests.get(i)\n",
    "    vids_str = vid_pages.text\n",
    "    docs = BeautifulSoup(vids_str, \"html.parser\")\n",
    "    cid_tags = docs.find_all('div', attrs={'class': 'scontent'})\n",
    "    cid_no.append(cid_tags)"
   ]
  },
  {
   "cell_type": "code",
   "execution_count": 83,
   "metadata": {
    "scrolled": true
   },
   "outputs": [
    {
     "data": {
      "text/plain": [
       "[[<div class=\"scontent\" id=\"bofqi\">\n",
       "      '<div class=\"player\" id=\"player_placeholder\"></div><script type=\"text/javascript\">EmbedPlayer('player', \"//static.hdslb.com/play.swf\", \"cid=19775087&aid=11982828&pre_ad=0\");</script>\n",
       "  </div>], [<div class=\"scontent\" id=\"bofqi\">\n",
       "      '<div class=\"player\" id=\"player_placeholder\"></div><script type=\"text/javascript\">EmbedPlayer('player', \"//static.hdslb.com/play.swf\", \"cid=17021548&aid=10287025&pre_ad=0\");</script>\n",
       "  </div>], [<div class=\"scontent\" id=\"bofqi\">\n",
       "      '<div class=\"player\" id=\"player_placeholder\"></div><script type=\"text/javascript\">EmbedPlayer('player', \"//static.hdslb.com/play.swf\", \"cid=21685892&aid=13224513&pre_ad=0\");</script>\n",
       "  </div>], [<div class=\"scontent\" id=\"bofqi\">\n",
       "      '<div class=\"player\" id=\"player_placeholder\"></div><script type=\"text/javascript\">EmbedPlayer('player', \"//static.hdslb.com/play.swf\", \"cid=21129902&aid=12858760&pre_ad=0\");</script>\n",
       "  </div>], [<div class=\"scontent\" id=\"bofqi\">\n",
       "      '<div class=\"player\" id=\"player_placeholder\"></div><script type=\"text/javascript\">EmbedPlayer('player', \"//static.hdslb.com/play.swf\", \"cid=20969634&aid=12754701&pre_ad=0\");</script>\n",
       "  </div>], [<div class=\"scontent\" id=\"bofqi\">\n",
       "      '<div class=\"player\" id=\"player_placeholder\"></div><script type=\"text/javascript\">EmbedPlayer('player', \"//static.hdslb.com/play.swf\", \"cid=23221112&aid=14227377&pre_ad=0\");</script>\n",
       "  </div>], [<div class=\"scontent\" id=\"bofqi\">\n",
       "      '<div class=\"player\" id=\"player_placeholder\"></div><script type=\"text/javascript\">EmbedPlayer('player', \"//static.hdslb.com/play.swf\", \"cid=21940434&aid=13389769&pre_ad=0\");</script>\n",
       "  </div>], [<div class=\"scontent\" id=\"bofqi\">\n",
       "      '<div class=\"player\" id=\"player_placeholder\"></div><script type=\"text/javascript\">EmbedPlayer('player', \"//static.hdslb.com/play.swf\", \"cid=21395593&aid=13031348&pre_ad=0\");</script>\n",
       "  </div>], [<div class=\"scontent\" id=\"bofqi\">\n",
       "      '<div class=\"player\" id=\"player_placeholder\"></div><script type=\"text/javascript\">EmbedPlayer('player', \"//static.hdslb.com/play.swf\", \"cid=21074112&aid=12822097&pre_ad=0\");</script>\n",
       "  </div>], [<div class=\"scontent\" id=\"bofqi\">\n",
       "      '<div class=\"player\" id=\"player_placeholder\"></div><script type=\"text/javascript\">EmbedPlayer('player', \"//static.hdslb.com/play.swf\", \"cid=22321514&aid=13641641&pre_ad=0\");</script>\n",
       "  </div>], [<div class=\"scontent\" id=\"bofqi\">\n",
       "      '<div class=\"player\" id=\"player_placeholder\"></div><script type=\"text/javascript\">EmbedPlayer('player', \"//static.hdslb.com/play.swf\", \"cid=17723870&aid=10742588&pre_ad=0\");</script>\n",
       "  </div>], [<div class=\"scontent\" id=\"bofqi\">\n",
       "      '<div class=\"player\" id=\"player_placeholder\"></div><script type=\"text/javascript\">EmbedPlayer('player', \"//static.hdslb.com/play.swf\", \"cid=23303665&aid=14278099&pre_ad=0\");</script>\n",
       "  </div>], [<div class=\"scontent\" id=\"bofqi\">\n",
       "      '<div class=\"player\" id=\"player_placeholder\"></div><script type=\"text/javascript\">EmbedPlayer('player', \"//static.hdslb.com/play.swf\", \"cid=22028618&aid=13447873&pre_ad=0\");</script>\n",
       "  </div>], [<div class=\"scontent\" id=\"bofqi\">\n",
       "      '<div class=\"player\" id=\"player_placeholder\"></div><script type=\"text/javascript\">EmbedPlayer('player', \"//static.hdslb.com/play.swf\", \"cid=23368625&aid=14319669&pre_ad=0\");</script>\n",
       "  </div>], [<div class=\"scontent\" id=\"bofqi\">\n",
       "      '<div class=\"player\" id=\"player_placeholder\"></div><script type=\"text/javascript\">EmbedPlayer('player', \"//static.hdslb.com/play.swf\", \"cid=19518755&aid=11820026&pre_ad=0\");</script>\n",
       "  </div>], [<div class=\"scontent\" id=\"bofqi\">\n",
       "      '<div class=\"player\" id=\"player_placeholder\"></div><script type=\"text/javascript\">EmbedPlayer('player', \"//static.hdslb.com/play.swf\", \"cid=20322527&aid=12337610&pre_ad=0\");</script>\n",
       "  </div>], [<div class=\"scontent\" id=\"bofqi\">\n",
       "      '<div class=\"player\" id=\"player_placeholder\"></div><script type=\"text/javascript\">EmbedPlayer('player', \"//static.hdslb.com/play.swf\", \"cid=21130200&aid=12858928&pre_ad=0\");</script>\n",
       "  </div>], [<div class=\"scontent\" id=\"bofqi\">\n",
       "      '<div class=\"player\" id=\"player_placeholder\"></div><script type=\"text/javascript\">EmbedPlayer('player', \"//static.hdslb.com/play.swf\", \"cid=21734121&aid=13255734&pre_ad=0\");</script>\n",
       "  </div>], [<div class=\"scontent\" id=\"bofqi\">\n",
       "      '<div class=\"player\" id=\"player_placeholder\"></div><script type=\"text/javascript\">EmbedPlayer('player', \"//static.hdslb.com/play.swf\", \"cid=10341564&aid=6363114&pre_ad=0\");</script>\n",
       "  </div>], [<div class=\"scontent\" id=\"bofqi\">\n",
       "      '<div class=\"player\" id=\"player_placeholder\"></div><script type=\"text/javascript\">EmbedPlayer('player', \"//static.hdslb.com/play.swf\", \"cid=18660283&aid=11283076&pre_ad=0\");</script>\n",
       "  </div>]]"
      ]
     },
     "execution_count": 83,
     "metadata": {},
     "output_type": "execute_result"
    }
   ],
   "source": [
    "cid_no"
   ]
  },
  {
   "cell_type": "code",
   "execution_count": 84,
   "metadata": {
    "collapsed": true
   },
   "outputs": [],
   "source": [
    "cid_final = []\n",
    "for i in cid_no:\n",
    "    listitem = str(i)\n",
    "    start_cid = int(str(i).find('cid='))\n",
    "    end_cid = int(str(i).find('&aid'))\n",
    "    final_list = listitem[(start_cid+4):end_cid]\n",
    "    cid_final.append(final_list)"
   ]
  },
  {
   "cell_type": "code",
   "execution_count": 85,
   "metadata": {},
   "outputs": [
    {
     "data": {
      "text/plain": [
       "['19775087',\n",
       " '17021548',\n",
       " '21685892',\n",
       " '21129902',\n",
       " '20969634',\n",
       " '23221112',\n",
       " '21940434',\n",
       " '21395593',\n",
       " '21074112',\n",
       " '22321514',\n",
       " '17723870',\n",
       " '23303665',\n",
       " '22028618',\n",
       " '23368625',\n",
       " '19518755',\n",
       " '20322527',\n",
       " '21130200',\n",
       " '21734121',\n",
       " '10341564',\n",
       " '18660283']"
      ]
     },
     "execution_count": 85,
     "metadata": {},
     "output_type": "execute_result"
    }
   ],
   "source": [
    "cid_final"
   ]
  },
  {
   "cell_type": "code",
   "execution_count": 86,
   "metadata": {
    "collapsed": true,
    "scrolled": true
   },
   "outputs": [],
   "source": [
    "for i in cid_final:\n",
    "    url_for_cid = \"http://comment.bilibili.com/\" + i +\".xml\"\n",
    "    r_for_cid = requests.get(url_for_cid)\n",
    "    dm = r_for_cid.text\n",
    "    dm_soup = BeautifulSoup(dm, 'html.parser')\n",
    "    dm_in_xml = dm_soup.find_all('d')\n",
    "    dm_list = [it.get_text() for it in dm_in_xml]\n",
    "    dm_text = str(dm_list)\n",
    "    with open(str(i)+\"_clean.txt\",\"w\") as f:\n",
    "        wr = csv.writer(f,delimiter=\"\\n\")\n",
    "        wr.writerow(dm_list)"
   ]
  }
 ],
 "metadata": {
  "kernelspec": {
   "display_name": "Python 3",
   "language": "python",
   "name": "python3"
  },
  "language_info": {
   "codemirror_mode": {
    "name": "ipython",
    "version": 3
   },
   "file_extension": ".py",
   "mimetype": "text/x-python",
   "name": "python",
   "nbconvert_exporter": "python",
   "pygments_lexer": "ipython3",
   "version": "3.6.4"
  }
 },
 "nbformat": 4,
 "nbformat_minor": 2
}
